{
  "nbformat": 4,
  "nbformat_minor": 0,
  "metadata": {
    "colab": {
      "name": "Alisa P. ITS",
      "provenance": [],
      "collapsed_sections": [],
      "toc_visible": true,
      "include_colab_link": true
    },
    "kernelspec": {
      "display_name": "Python 3",
      "name": "python3"
    }
  },
  "cells": [
    {
      "cell_type": "markdown",
      "metadata": {
        "id": "view-in-github",
        "colab_type": "text"
      },
      "source": [
        "<a href=\"https://colab.research.google.com/github/ssnowvyx/C-/blob/main/Alisa_P_ITS.ipynb\" target=\"_parent\"><img src=\"https://colab.research.google.com/assets/colab-badge.svg\" alt=\"Open In Colab\"/></a>"
      ]
    },
    {
      "cell_type": "markdown",
      "metadata": {
        "id": "5fCEDCU_qrC0"
      },
      "source": [
        "<p><img alt=\"Colaboratory logo\" height=\"45px\" src=\"/img/colab_favicon.ico\" align=\"left\" hspace=\"10px\" vspace=\"0px\"></p>\n",
        "\n",
        "<h1>Colaboratory คืออะไร</h1>\n",
        "\n",
        "Colaboratory หรือที่เรียกสั้นๆ ว่า \"Colab\" ช่วยให้คุณเขียนและเรียกใช้ Python ในเบราว์เซอร์โดย\n",
        "- ไม่ต้องกำหนดค่าใด\n",
        "- เข้าถึง GPU ได้โดยไม่มีค่าใช้จ่าย\n",
        "- แชร์ได้ง่ายๆ\n",
        "\n",
        "ไม่ว่าคุณจะเป็น<strong>นักเรียน/นักศึกษา</strong> <strong>นักวิทยาศาสตร์ข้อมูล</strong> หรือ<strong>นักวิจัย AI</strong> ระบบ Colab ก็ช่วยให้งานของคุณง่ายขึ้นได้ รับชม<a href=\"https://www.youtube.com/watch?v=inN8seMm7UI\">ข้อมูลเบื้องต้นเกี่ยวกับ Colab</a> เพื่อดูข้อมูลเพิ่มเติม หรือจะเริ่มต้นใช้งานที่ด้านล่างเลยก็ได้"
      ]
    },
    {
      "cell_type": "markdown",
      "metadata": {
        "id": "GJBs_flRovLc"
      },
      "source": [
        "## <strong>เริ่มต้นใช้งาน</strong>\n",
        "\n",
        "เอกสารที่คุณกำลังอ่านไม่ใช่หน้าเว็บแบบคงที่ แต่เป็นสภาพแวดล้อมแบบอินเทอร์แอกทีฟที่เรียกว่า<strong>สมุดบันทึก Colab</strong> ซึ่งให้คุณเขียนและเรียกใช้โค้ดได้\n",
        "\n",
        "ลองดูตัวอย่างนี้ นี่คือ<strong>เซลล์โค้ด</strong>ที่มีสคริปต์ Python สั้นๆ ซึ่งจะคำนวณค่าค่าหนึ่ง เก็บไว้ในตัวแปร แล้วพิมพ์ผลลัพธ์ออกมา"
      ]
    },
    {
      "cell_type": "code",
      "metadata": {
        "colab": {
          "base_uri": "https://localhost:8080/",
          "height": 34
        },
        "id": "gJr_9dXGpJ05",
        "outputId": "9f556d03-ec67-4950-a485-cfdba9ddd14d"
      },
      "source": [
        "seconds_in_a_day = 24 * 60 * 60\n",
        "seconds_in_a_day"
      ],
      "execution_count": null,
      "outputs": [
        {
          "output_type": "execute_result",
          "data": {
            "text/plain": [
              "86400"
            ]
          },
          "metadata": {
            "tags": []
          },
          "execution_count": 0
        }
      ]
    },
    {
      "cell_type": "markdown",
      "metadata": {
        "id": "2fhs6GZ4qFMx"
      },
      "source": [
        "หากต้องการเรียกใช้โค้ดในเซลล์ด้านบน ให้คลิกเพื่อเลือกโค้ดนั้น และกดปุ่มเล่นทางด้านซ้ายของโค้ด หรือจะใช้แป้นพิมพ์ลัด \"Command/Ctrl+Enter\" ก็ได้ หากต้องการแก้ไขโค้ด ก็เพียงคลิกเซลล์และเริ่มแก้ไขได้เลย\n",
        "\n",
        "ตัวแปรที่คุณกำหนดในเซลล์หนึ่งจะใช้ในเซลล์อื่นในภายหลังได้"
      ]
    },
    {
      "cell_type": "code",
      "metadata": {
        "colab": {
          "base_uri": "https://localhost:8080/",
          "height": 34
        },
        "id": "-gE-Ez1qtyIA",
        "outputId": "94cb2224-0edf-457b-90b5-0ac3488d8a97"
      },
      "source": [
        "seconds_in_a_week = 7 * seconds_in_a_day\n",
        "seconds_in_a_week"
      ],
      "execution_count": null,
      "outputs": [
        {
          "output_type": "execute_result",
          "data": {
            "text/plain": [
              "604800"
            ]
          },
          "metadata": {
            "tags": []
          },
          "execution_count": 0
        }
      ]
    },
    {
      "cell_type": "markdown",
      "metadata": {
        "id": "lSrWNr3MuFUS"
      },
      "source": [
        "สมุดบันทึก Colab ช่วยให้คุณรวม<strong>โค้ดที่สั่งการได้</strong>และ <strong>Rich Text</strong> ลงในเอกสารเดียว ควบคู่ไปกับ<strong>รูปภาพ</strong>, <strong>HTML</strong>, <strong>LaTeX</strong> และอื่นๆ ได้ เมื่อคุณสร้างสมุดบันทึก Colab ของตัวเอง สมุดบันทึกเหล่านั้นจะจัดเก็บอยู่ในบัญชี Google ไดรฟ์ โดยจะแชร์สมุดบันทึก Colab กับเพื่อนหรือเพื่อนร่วมงานและอนุญาตให้บุคคลดังกล่าวแสดงความคิดเห็นหรือแก้ไขสมุดบันทึกของคุณได้ง่ายๆ ดูข้อมูลเพิ่มเติมได้ใน<a href=\"/notebooks/basic_features_overview.ipynb\">ภาพรวมของ Colab</a> หากต้องการสร้างสมุดบันทึก Colab เล่มใหม่ คุณจะใช้เมนู \"ไฟล์\" ด้านบน หรือทำผ่านลิงก์<a href=\"http://colab.research.google.com#create=true\">สร้างสมุดบันทึก Colab เล่มใหม่</a>ก็ได้\n",
        "\n",
        "สมุดบันทึก Colab คือสมุดบันทึก Jupyter ที่ Colab โฮสต์ไว้ ดูข้อมูลเพิ่มเติมเกี่ยวกับโปรเจ็กต์ Jupyter ได้ที่ <a href=\"https://www.jupyter.org\">jupyter.org</a>"
      ]
    },
    {
      "cell_type": "code",
      "metadata": {
        "id": "Osa7La0eHCnl"
      },
      "source": [
        "class mystack: \n",
        " def __init__(self): \n",
        "  self.data =[] \n",
        "\n",
        " def length(self): #length of the list \n",
        "  return len(self.data)\n",
        "\n",
        " def is_full(self): \n",
        "  if len(self.data) == 5: \n",
        "   return True \n",
        "  else : \n",
        "   return False \n",
        " \n",
        " def push(self, element):\n",
        "  if len(self.data) < 5: \n",
        "     self.data.append(element) \n",
        "  else: \n",
        "     return \"overflow\" \n",
        "\n",
        " def pop(self): # # remove the last element from a list \n",
        "  if len(self.data) == 0: \n",
        "     return \"underflow\" \n",
        "  else:  \n",
        "     return self.data.pop() \n",
        "\n",
        "  a = mystack() # I create my object \n",
        "  a.push(10) # insert the element \n",
        "  a.push(23) \n",
        "  a.push(25) \n",
        "  a.push(27)\n",
        "  a.push(11) \n",
        "  print(a.length()) \n",
        "  print(a.is_full()) \n",
        "  print(a.data) \n",
        "  print(a.push(31)) # we try to insert one more element in the list - the output will be  overflow \n",
        "  print(a.pop()) \n",
        "  print(a.pop()) \n",
        "  print(a.pop()) \n",
        "  print(a.pop()) \n",
        "  print(a.pop()) \n",
        "  print(a.pop()) # try to delete an element in a list without elements - the output will  be underflow "
      ],
      "execution_count": null,
      "outputs": []
    },
    {
      "cell_type": "code",
      "metadata": {
        "id": "cFU8aDLvJZ1g",
        "colab": {
          "base_uri": "https://localhost:8080/"
        },
        "outputId": "e51b59cd-5478-4228-ea17-19b1e4d555f4"
      },
      "source": [
        "class myqueue: \n",
        "  def __init__(self): \n",
        "    self.data = [] \n",
        "        \n",
        "  def length(self): \n",
        "    len(self.data) \n",
        "        \n",
        "  def enque(self, element): \n",
        "    if len(self.data) < 5: \n",
        "      return self.data.append(element)\n",
        "    else: \n",
        "      return \"overflow\" \n",
        "      \n",
        "  def deque(self): \n",
        "     if len(self.data) == 0:\n",
        "      return \"underflow\" \n",
        "     else: \n",
        "      self.data.pop(0) \n",
        "  \n",
        "b = myqueue() \n",
        "b.enque(2) # put the element into the queue \n",
        "b.enque(3) \n",
        "b.enque(4) \n",
        "b.enque(5) \n",
        "print(b.data) \n",
        "b.deque()# # remove the first element that we have put in the queue print(b.data)\n",
        "print(b.data)"
      ],
      "execution_count": 1,
      "outputs": [
        {
          "output_type": "stream",
          "text": [
            "[2, 3, 4, 5]\n",
            "[3, 4, 5]\n"
          ],
          "name": "stdout"
        }
      ]
    },
    {
      "cell_type": "markdown",
      "metadata": {
        "id": "UdRyKR44dcNI"
      },
      "source": [
        "## วิทยาศาสตร์ข้อมูล\n",
        "\n",
        "Colab ให้คุณใช้ประโยชน์จากไลบรารี Python ที่ได้รับความนิยมได้อย่างเต็มศักยภาพ เพื่อวิเคราะห์และแสดงข้อมูลเป็นภาพ เซลล์โค้ดด้านล่างใช้ <strong>numpy</strong> เพื่อสร้างข้อมูลสุ่มขึ้นมา และใช้ <strong>matplotlib</strong> เพื่อแสดงข้อมูลนั้นเป็นภาพ หากต้องการแก้ไขโค้ด ก็เพียงคลิกเซลล์และเริ่มแก้ไขได้เลย"
      ]
    },
    {
      "cell_type": "markdown",
      "metadata": {
        "id": "4_kCnsPUqS6o"
      },
      "source": [
        "คุณนำเข้าข้อมูลของตนเองจากบัญชี Google ไดรฟ์มายังสมุดบันทึก Colab ได้ รวมถึงจากสเปรดชีต, GitHub และแหล่งข้อมูลอื่นๆ อีกมากมาย ดูข้อมูลเพิ่มเติมเกี่ยวกับการนำเข้าข้อมูลและการใช้ Colab ทางด้านวิทยาศาสตร์ข้อมูลได้จากลิงก์ด้านล่างในส่วน<a href=\"#working-with-data\">การทำงานกับข้อมูล</a>"
      ]
    },
    {
      "cell_type": "markdown",
      "metadata": {
        "id": "OwuxHmxllTwN"
      },
      "source": [
        "## แมชชีนเลิร์นนิง\n",
        "\n",
        "Colab ให้คุณนำเข้าชุดข้อมูลรูปภาพ ฝึกการทำงานของตัวแยกประเภทรูปภาพกับชุดข้อมูลนั้น แล้วประเมินโมเดล โดยทั้งหมดนี้ใช้<a href=\"https://colab.research.google.com/github/tensorflow/docs/blob/master/site/en/tutorials/quickstart/beginner.ipynb\">โค้ดเพียงไม่กี่บรรทัด</a>เท่านั้น สมุดบันทึก Colab เรียกใช้โค้ดในเซิร์ฟเวอร์ระบบคลาวด์ของ Google ซึ่งหมายความว่าคุณจะใช้ประโยชน์จากประสิทธิภาพของฮาร์ดแวร์ Google รวมถึง <a href=\"#using-accelerated-hardware\">GPU และ TPU</a> โดยไม่ต้องคำนึงถึงสมรรถภาพของคอมพิวเตอร์ตัวเองเลย ใช้แค่เบราว์เซอร์เท่านั้น"
      ]
    },
    {
      "cell_type": "markdown",
      "metadata": {
        "id": "ufxBm1yRnruN"
      },
      "source": [
        "ชุมชนแมชชีนเลิร์นนิงมีการประยุกต์ใช้ Colab อย่างกว้างขวางในงานต่างๆ เช่น\n",
        "- การเริ่มต้นใช้งาน TensorFlow\n",
        "- การพัฒนาและการฝึกโครงข่ายระบบประสาทเทียม\n",
        "- การทดสอบกับ TPU\n",
        "- การเผยแพร่งานวิจัย AI\n",
        "- การสร้างบทแนะนำ\n",
        "\n",
        "ดูตัวอย่างสมุดบันทึก Colab ที่สาธิตการประยุกต์ใช้แมชชีนเลิร์นนิงได้ใน<a href=\"#machine-learning-examples\">ตัวอย่างแมชชีนเลิร์นนิง</a>ด้านล่าง"
      ]
    },
    {
      "cell_type": "markdown",
      "metadata": {
        "id": "-Rh3-Vt9Nev9"
      },
      "source": [
        "## แหล่งข้อมูลเพิ่มเติม\n",
        "\n",
        "### การทำงานกับสมุดบันทึกใน Colab\n",
        "- [ภาพรวมของ Colaboratory](/notebooks/basic_features_overview.ipynb)\n",
        "- [ข้อมูลเบื้องต้นเกี่ยวกับ Markdown](/notebooks/markdown_guide.ipynb)\n",
        "- [การนำเข้าไลบรารีและการติดตั้งทรัพยากร Dependency](/notebooks/snippets/importing_libraries.ipynb)\n",
        "- [การบันทึกและการโหลดสมุดบันทึกใน GitHub](https://colab.research.google.com/github/googlecolab/colabtools/blob/master/notebooks/colab-github-demo.ipynb)\n",
        "- [ฟอร์มแบบอินเทอร์แอกทีฟ](/notebooks/forms.ipynb)\n",
        "- [วิดเจ็ตแบบอินเทอร์แอกทีฟ](/notebooks/widgets.ipynb)\n",
        "- <img src=\"/img/new.png\" height=\"20px\" align=\"left\" hspace=\"4px\" alt=\"New\"></img>\n",
        " [TensorFlow 2 ใน Colab](/notebooks/tensorflow_version.ipynb)\n",
        "\n",
        "<a name=\"working-with-data\"></a>\n",
        "### การทำงานกับข้อมูล\n",
        "- [การโหลดข้อมูล: ไดรฟ์ ชีต และ Google Cloud Storage](/notebooks/io.ipynb) \n",
        "- [แผนภูมิ: การแสดงข้อมูลเป็นภาพ](/notebooks/charts.ipynb)\n",
        "- [การเริ่มต้นใช้งาน BigQuery](/notebooks/bigquery.ipynb)\n",
        "\n",
        "### หลักสูตรเร่งรัดเกี่ยวกับแมชชีนเลิร์นนิง\n",
        "นี่คือสมุดบันทึกบางส่วนจากหลักสูตรแมชชีนเลิร์นนิงออนไลน์ของ Google ดูเพิ่มเติมได้ใน<a href=\"https://developers.google.com/machine-learning/crash-course/\">เว็บไซต์การเรียนรู้แบบเต็มหลักสูตร</a>\n",
        "- [แนะนำ Pandas](/notebooks/mlcc/intro_to_pandas.ipynb)\n",
        "- [แนวคิดของ TensorFlow](/notebooks/mlcc/tensorflow_programming_concepts.ipynb)\n",
        "\n",
        "<a name=\"using-accelerated-hardware\"></a>\n",
        "### การใช้ฮาร์ดแวร์ที่มีการเร่ง\n",
        "- [TensorFlow กับ GPU](/notebooks/gpu.ipynb)\n",
        "- [TensorFlow กับ TPU](/notebooks/tpu.ipynb)"
      ]
    },
    {
      "cell_type": "markdown",
      "metadata": {
        "id": "P-H6Lw1vyNNd"
      },
      "source": [
        "<a name=\"machine-learning-examples\"></a>\n",
        "\n",
        "## ตัวอย่างแมชชีนเลิร์นนิง\n",
        "\n",
        "ดูตัวอย่างแบบปลายทางถึงปลายทางของการวิเคราะห์แมชชีนเลิร์นนิงแบบอินเทอร์แอกทีฟที่ Colaboratory ทำให้เป็นจริงได้ในบทแนะนำเหล่านี้ซึ่งใช้โมเดลจาก <a href=\"https://tfhub.dev\">TensorFlow Hub</a>\n",
        "\n",
        "ตัวอย่างที่โดดเด่น\n",
        "\n",
        "- <a href=\"https://tensorflow.org/hub/tutorials/tf2_image_retraining\">การฝึกตัวแยกประเภทรูปภาพใหม่</a>: สร้างโมเดล Keras เพิ่มเติมจากตัวแยกประเภทรูปภาพที่ฝึกไว้ล่วงหน้าเพื่อแยกแยะดอกไม้ชนิดต่างๆ\n",
        "- <a href=\"https://tensorflow.org/hub/tutorials/tf2_text_classification\">การจัดประเภทข้อความ</a>: จัดประเภทรีวิวภาพยนตร์ใน IMDB ว่าเป็น<em>เชิงบวก</em>หรือ<em>เชิงลบ</em>\n",
        "- <a href=\"https://tensorflow.org/hub/tutorials/tf2_arbitrary_image_stylization\">การโอนรูปแบบ</a>: ใช้การเรียนรู้เชิงลึกเพื่อโอนรูปแบบระหว่างรูปภาพ\n",
        "- <a href=\"https://tensorflow.org/hub/tutorials/retrieval_with_tf_hub_universal_encoder_qa\">การถามและตอบเกี่ยวกับ Universal Sentence Encoder แบบหลายภาษา</a>: ใช้โมเดลแมชชีนเลิร์นนิงเพื่อตอบคำถามจากชุดข้อมูล SQuAD\n",
        "- <a href=\"https://tensorflow.org/hub/tutorials/tweening_conv3d\">ชนิดการประมาณค่าในช่วงวิดีโอ</a>: คาดการณ์สิ่งที่เกิดขึ้นในวิดีโอระหว่างเฟรมแรกกับเฟรมสุดท้าย\n"
      ]
    }
  ]
}